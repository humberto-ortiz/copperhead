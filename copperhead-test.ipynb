{
 "metadata": {
  "language": "Julia",
  "name": ""
 },
 "nbformat": 3,
 "nbformat_minor": 0,
 "worksheets": [
  {
   "cells": [
    {
     "cell_type": "code",
     "collapsed": false,
     "input": [
      "srand(0)\n",
      "\n",
      "a = rand(1:4, 1000)\n",
      "\n",
      "seq = map((i) -> \"acgt\"[i], a)\n",
      "\n",
      "println(seq)"
     ],
     "language": "python",
     "metadata": {},
     "outputs": [
      {
       "output_type": "stream",
       "stream": "stdout",
       "text": [
        "Char["
       ]
      },
      {
       "output_type": "stream",
       "stream": "stdout",
       "text": [
        "a,g,c,c,a,g,a,t,t,a,t,c,g,g,t,c,t,t,g,a,c,t,c,g,t,g,g,c,a,a,t,g,a,g,t,a,a,t,t,g,a,a,t,g,t,c,t,g,c,t,g,a,a,c,c,c,c,g,t,c,t,t,t,c,c,t,t,c,t,t,g,g,t,a,a,c,a,t,a,c,a,t,t,c,a,a,g,c,g,c,t,a,c,a,a,g,g,c,g,g,t,g,g,c,a,g,t,c,g,c,a,c,a,c,g,c,g,a,c,t,c,t,g,c,g,t,c,c,g,g,g,c,t,g,c,c,t,a,c,c,c,g,t,t,g,a,a,a,g,g,g,g,c,c,c,c,c,a,c,t,c,g,g,t,t,c,a,c,t,c,a,t,a,t,c,g,c,a,a,t,g,g,t,t,c,a,g,c,a,g,c,t,a,a,c,g,t,c,t,t,t,t,t,c,a,c,c,t,a,a,g,c,c,c,c,t,a,g,c,t,a,t,g,g,c,g,g,t,a,g,c,c,g,c,g,t,g,a,g,a,c,g,a,g,a,a,c,t,t,a,t,t,a,t,t,g,c,c,t,g,t,a,t,a,g,c,t,a,c,c,c,a,c,t,t,t,c,t,g,t,g,a,a,c,g,t,a,a,g,c,g,t,t,t,a,g,g,a,a,c,a,g,a,g,t,c,a,g,t,g,g,c,t,c,t,g,c,a,c,t,t,t,t,a,c,c,t,a,g,c,a,c,t,c,c,a,c,c,c,a,g,t,g,a,g,c,a,g,a,g,a,a,c,t,c,t,g,g,a,c,a,g,a,g,t,a,a,a,g,a,t,c,a,a,t,g,c,c,t,c,a,t,g,g,t,c,g,a,a,g,c,g,c,c,c,c,g,g,g,a,c,t,a,t,c,c,g,t,t,c,g,a,c,a,a,c,t,c,g,c,a,c,g,t,a,t,a,c,t,a,g,g,a,c,c,g,t,t,c,c,t,t,c,g,c,a,c,t,g,a,a,g,a,g,t,c,g,g,g,g,t,t,c,t,t,c,a,t,a,t,a,c,t,a,g,t,g,c,c,c,t,c,c,t,g,g,t,c,a,c,t,c,g,a,g,a,t,t,g,a,a,c,a,a,g,c,c,c,a,a,t,g,c,c,g,g,t,g,c,g,t,t,a,c,t,a,t,a,g,a,g,c,a,a,c,a,a,c,g,g,t,t,c,g,t,t,c,c,a,a,c,t,g,a,t,a,g,c,c,t,c,a,a,t,g,a,a,g,c,c,a,g,g,g,g,c,t,a,a,t,c,c,g,g,a,a,t,g,c,g,g,g,a,g,a,a,g,a,t,t,c,c,a,c,a,g,g,a,a,a,g,g,a,a,c,g,c,a,a,a,g,t,a,g,g,c,a,t,a,t,a,t,a,g,g,g,t,g,c,g,c,c,t,a,a,g,g,a,t,t,t,a,t,g,a,g,a,g,g,c,g,a,t,c,a,a,t,g,c,t,a,c,t,c,c,t,g,g,a,g,t,g,g,t,g,a,a,a,g,t,a,a,c,g,t,a,t,c,c,t,t,g,g,c,c,t,t,t,a,g,a,g,t,g,t,a,g,a,g,g,c,c,t,c,g,c,g,g,a,t,t,t,t,a,c,c,t,t,c,t,g,t,c,a,c,t,t,a,c,a,a,a,g,a,a,a,c,c,c,a,a,t,a,g,g,t,c,a,g,c,g,a,t,t,c,g,g,a,a,a,t,a,t,a,g,a,a,g,c,c,a,t,c,g,c,a,t,t,g,c,t,g,t,g,g,a,g,g,t,t,c,c,c,c,g,t,a,g,t,t,g,g,g,t,t,t,t,g,t,g,a,t,a,a,c,g,t,c,a,g,g,g,t,a,c,t,a,g,c,a,c,t,t,g,t,c,t,g,c,g,c,t,c,a,a,a,a,g,g,t,t,g,c,c,g,a,c,a,a,a,t,t,t,c,g,g,g,t,t,g,a,c,c,c,a,c,g,c,c,g,g,c,g,g,t,t,g,c,a,g,c,g,c,a,a,c,a,c,t,g,c,a,c,c,c,c,g,t,t,g,a,t,a,t,t,t,a,t,c,a,c,g,c,g,t,a,g,c,a,g,g,c,a,g,c,t,a,c,c,c,a,g,t,g,c,a,g,g,c,t,t,a,g,a,t,g,g,g,a,t,g,t,c,t,t,c,a,g,t,c,a,a,g,t,g,t,a,t,a,a]\n"
       ]
      }
     ],
     "prompt_number": 1
    },
    {
     "cell_type": "code",
     "collapsed": false,
     "input": [],
     "language": "python",
     "metadata": {},
     "outputs": []
    }
   ],
   "metadata": {}
  }
 ]
}